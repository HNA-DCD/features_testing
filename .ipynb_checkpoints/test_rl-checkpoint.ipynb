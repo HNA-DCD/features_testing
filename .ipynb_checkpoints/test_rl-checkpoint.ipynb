{
 "cells": [
  {
   "cell_type": "code",
   "execution_count": 1,
   "metadata": {},
   "outputs": [],
   "source": [
    "import numpy as np\n",
    "import pandas as pd\n",
    "import matplotlib.pyplot as plt\n",
    "import seaborn as sns\n",
    "import networkx as nx"
   ]
  },
  {
   "cell_type": "code",
   "execution_count": 2,
   "metadata": {},
   "outputs": [],
   "source": [
    "from sklearn.preprocessing import MinMaxScaler"
   ]
  },
  {
   "cell_type": "code",
   "execution_count": 20,
   "metadata": {},
   "outputs": [],
   "source": [
    "states = [\n",
    "    \"jakarta\", \"bandung\", \"dieng\", \"Jogyakarta\", \"sukabumi\", \"bogor\", \"semarang\", \"surabaya\" \n",
    "]\n",
    "N = len(states)\n",
    "edges = [\n",
    "    (\"jakarta\", \"bandung\", 108.98), \n",
    "    (\"jakarta\", \"bogor\", 47.12),\n",
    "    (\"jakarta\", \"sukabumi\", 80.55), \n",
    "    (\"bandung\", \"dieng\", 255.56),\n",
    "    (\"bogor\", \"dieng\", 349.69),\n",
    "    (\"dieng\", \"surabaya\", 312.74),\n",
    "    (\"sukabumi\", \"jogjakarta\", 393.26)\n",
    "    (\"jogjakarta\", \"surabaya\", 265.63)\n",
    "]\n",
    "edges_distances = np.array(list(map(lambda x: x[2], edges))).reshape(-1, 1)\n",
    "scaler = MinMaxScaler(feature_range=(10, 90))\n",
    "edges_distances = scaler.fit_transform(edges_distances)\n",
    "edges_distances.reshape(1, -1)[0]\n",
    "scaled_edges = []\n",
    "for i in range(len(edges)):\n",
    "    scaled_edges.append(\n",
    "        (edges[i][0], edges[i][1], round(edges_distances.reshape(1, -1)[0][i], 2))\n",
    "    )\n",
    "edges = scaled_edges"
   ]
  },
  {
   "cell_type": "code",
   "execution_count": 21,
   "metadata": {},
   "outputs": [],
   "source": [
    "start = \"jakarta\"\n",
    "goal = \"bali\""
   ]
  },
  {
   "cell_type": "code",
   "execution_count": 22,
   "metadata": {},
   "outputs": [],
   "source": [
    "G = nx.Graph()\n",
    "G.add_edges_from(list(map(lambda x: (x[0], x[1]), edges)))"
   ]
  },
  {
   "cell_type": "code",
   "execution_count": 23,
   "metadata": {},
   "outputs": [],
   "source": [
    "position = nx.spring_layout(G, seed=42)"
   ]
  },
  {
   "cell_type": "code",
   "execution_count": 24,
   "metadata": {},
   "outputs": [
    {
     "data": {
      "image/png": "[encoded data removed]",
      "text/plain": [
       "<Figure size 576x576 with 1 Axes>"
      ]
     },
     "metadata": {},
     "output_type": "display_data"
    }
   ],
   "source": [
    "plt.figure(figsize=(8, 8))\n",
    "nx.draw_networkx_nodes(G, position, node_size=1000, node_color=\"w\", edgecolors=\"k\")\n",
    "nx.draw_networkx_edges(G, position)\n",
    "nx.draw_networkx_labels(G, position)\n",
    "plt.show()"
   ]
  },
  {
   "cell_type": "code",
   "execution_count": 162,
   "metadata": {},
   "outputs": [
    {
     "data": {
      "text/html": [
       "<div>\n",
       "<style scoped>\n",
       "    .dataframe tbody tr th:only-of-type {\n",
       "        vertical-align: middle;\n",
       "    }\n",
       "\n",
       "    .dataframe tbody tr th {\n",
       "        vertical-align: top;\n",
       "    }\n",
       "\n",
       "    .dataframe thead th {\n",
       "        text-align: right;\n",
       "    }\n",
       "</style>\n",
       "<table border=\"1\" class=\"dataframe\">\n",
       "  <thead>\n",
       "    <tr style=\"text-align: right;\">\n",
       "      <th></th>\n",
       "      <th>jakarta</th>\n",
       "      <th>bandung</th>\n",
       "      <th>surabaya</th>\n",
       "      <th>makassar</th>\n",
       "      <th>samarinda</th>\n",
       "      <th>bali</th>\n",
       "    </tr>\n",
       "  </thead>\n",
       "  <tbody>\n",
       "    <tr>\n",
       "      <th>jakarta</th>\n",
       "      <td>-1.0</td>\n",
       "      <td>-1.0</td>\n",
       "      <td>-1.0</td>\n",
       "      <td>-1.0</td>\n",
       "      <td>-1.0</td>\n",
       "      <td>-1.0</td>\n",
       "    </tr>\n",
       "    <tr>\n",
       "      <th>bandung</th>\n",
       "      <td>-1.0</td>\n",
       "      <td>-1.0</td>\n",
       "      <td>-1.0</td>\n",
       "      <td>-1.0</td>\n",
       "      <td>-1.0</td>\n",
       "      <td>-1.0</td>\n",
       "    </tr>\n",
       "    <tr>\n",
       "      <th>surabaya</th>\n",
       "      <td>-1.0</td>\n",
       "      <td>-1.0</td>\n",
       "      <td>-1.0</td>\n",
       "      <td>-1.0</td>\n",
       "      <td>-1.0</td>\n",
       "      <td>-1.0</td>\n",
       "    </tr>\n",
       "    <tr>\n",
       "      <th>makassar</th>\n",
       "      <td>-1.0</td>\n",
       "      <td>-1.0</td>\n",
       "      <td>-1.0</td>\n",
       "      <td>-1.0</td>\n",
       "      <td>-1.0</td>\n",
       "      <td>-1.0</td>\n",
       "    </tr>\n",
       "    <tr>\n",
       "      <th>samarinda</th>\n",
       "      <td>-1.0</td>\n",
       "      <td>-1.0</td>\n",
       "      <td>-1.0</td>\n",
       "      <td>-1.0</td>\n",
       "      <td>-1.0</td>\n",
       "      <td>-1.0</td>\n",
       "    </tr>\n",
       "    <tr>\n",
       "      <th>bali</th>\n",
       "      <td>-1.0</td>\n",
       "      <td>-1.0</td>\n",
       "      <td>-1.0</td>\n",
       "      <td>-1.0</td>\n",
       "      <td>-1.0</td>\n",
       "      <td>-1.0</td>\n",
       "    </tr>\n",
       "  </tbody>\n",
       "</table>\n",
       "</div>"
      ],
      "text/plain": [
       "           jakarta  bandung  surabaya  makassar  samarinda  bali\n",
       "jakarta       -1.0     -1.0      -1.0      -1.0       -1.0  -1.0\n",
       "bandung       -1.0     -1.0      -1.0      -1.0       -1.0  -1.0\n",
       "surabaya      -1.0     -1.0      -1.0      -1.0       -1.0  -1.0\n",
       "makassar      -1.0     -1.0      -1.0      -1.0       -1.0  -1.0\n",
       "samarinda     -1.0     -1.0      -1.0      -1.0       -1.0  -1.0\n",
       "bali          -1.0     -1.0      -1.0      -1.0       -1.0  -1.0"
      ]
     },
     "execution_count": 162,
     "metadata": {},
     "output_type": "execute_result"
    }
   ],
   "source": [
    "R = pd.DataFrame(-np.ones((N, N)), index=states, columns=states)\n",
    "R"
   ]
  },
  {
   "cell_type": "code",
   "execution_count": 163,
   "metadata": {},
   "outputs": [
    {
     "data": {
      "text/html": [
       "<div>\n",
       "<style scoped>\n",
       "    .dataframe tbody tr th:only-of-type {\n",
       "        vertical-align: middle;\n",
       "    }\n",
       "\n",
       "    .dataframe tbody tr th {\n",
       "        vertical-align: top;\n",
       "    }\n",
       "\n",
       "    .dataframe thead th {\n",
       "        text-align: right;\n",
       "    }\n",
       "</style>\n",
       "<table border=\"1\" class=\"dataframe\">\n",
       "  <thead>\n",
       "    <tr style=\"text-align: right;\">\n",
       "      <th></th>\n",
       "      <th>jakarta</th>\n",
       "      <th>bandung</th>\n",
       "      <th>surabaya</th>\n",
       "      <th>makassar</th>\n",
       "      <th>samarinda</th>\n",
       "      <th>bali</th>\n",
       "    </tr>\n",
       "  </thead>\n",
       "  <tbody>\n",
       "    <tr>\n",
       "      <th>jakarta</th>\n",
       "      <td>-1.00</td>\n",
       "      <td>90.00</td>\n",
       "      <td>56.08</td>\n",
       "      <td>10.00</td>\n",
       "      <td>15.52</td>\n",
       "      <td>-1.0</td>\n",
       "    </tr>\n",
       "    <tr>\n",
       "      <th>bandung</th>\n",
       "      <td>90.00</td>\n",
       "      <td>-1.00</td>\n",
       "      <td>61.23</td>\n",
       "      <td>13.96</td>\n",
       "      <td>16.74</td>\n",
       "      <td>100.0</td>\n",
       "    </tr>\n",
       "    <tr>\n",
       "      <th>surabaya</th>\n",
       "      <td>56.08</td>\n",
       "      <td>61.23</td>\n",
       "      <td>-1.00</td>\n",
       "      <td>48.25</td>\n",
       "      <td>40.70</td>\n",
       "      <td>100.0</td>\n",
       "    </tr>\n",
       "    <tr>\n",
       "      <th>makassar</th>\n",
       "      <td>10.00</td>\n",
       "      <td>13.96</td>\n",
       "      <td>48.25</td>\n",
       "      <td>-1.00</td>\n",
       "      <td>60.84</td>\n",
       "      <td>100.0</td>\n",
       "    </tr>\n",
       "    <tr>\n",
       "      <th>samarinda</th>\n",
       "      <td>15.52</td>\n",
       "      <td>16.74</td>\n",
       "      <td>40.70</td>\n",
       "      <td>60.84</td>\n",
       "      <td>-1.00</td>\n",
       "      <td>100.0</td>\n",
       "    </tr>\n",
       "    <tr>\n",
       "      <th>bali</th>\n",
       "      <td>-1.00</td>\n",
       "      <td>44.56</td>\n",
       "      <td>78.92</td>\n",
       "      <td>58.29</td>\n",
       "      <td>39.09</td>\n",
       "      <td>100.0</td>\n",
       "    </tr>\n",
       "  </tbody>\n",
       "</table>\n",
       "</div>"
      ],
      "text/plain": [
       "           jakarta  bandung  surabaya  makassar  samarinda   bali\n",
       "jakarta      -1.00    90.00     56.08     10.00      15.52   -1.0\n",
       "bandung      90.00    -1.00     61.23     13.96      16.74  100.0\n",
       "surabaya     56.08    61.23     -1.00     48.25      40.70  100.0\n",
       "makassar     10.00    13.96     48.25     -1.00      60.84  100.0\n",
       "samarinda    15.52    16.74     40.70     60.84      -1.00  100.0\n",
       "bali         -1.00    44.56     78.92     58.29      39.09  100.0"
      ]
     },
     "execution_count": 163,
     "metadata": {},
     "output_type": "execute_result"
    }
   ],
   "source": [
    "for a, b,c in edges:\n",
    "    R.loc[a, b] = 100 if b == goal else 100 - c\n",
    "    R.loc[b, a] = 100 if a == goal else 100 - c\n",
    "R.loc[goal, goal] = 100\n",
    "R"
   ]
  },
  {
   "cell_type": "code",
   "execution_count": 164,
   "metadata": {},
   "outputs": [
    {
     "data": {
      "text/html": [
       "<div>\n",
       "<style scoped>\n",
       "    .dataframe tbody tr th:only-of-type {\n",
       "        vertical-align: middle;\n",
       "    }\n",
       "\n",
       "    .dataframe tbody tr th {\n",
       "        vertical-align: top;\n",
       "    }\n",
       "\n",
       "    .dataframe thead th {\n",
       "        text-align: right;\n",
       "    }\n",
       "</style>\n",
       "<table border=\"1\" class=\"dataframe\">\n",
       "  <thead>\n",
       "    <tr style=\"text-align: right;\">\n",
       "      <th></th>\n",
       "      <th>jakarta</th>\n",
       "      <th>bandung</th>\n",
       "      <th>surabaya</th>\n",
       "      <th>makassar</th>\n",
       "      <th>samarinda</th>\n",
       "      <th>bali</th>\n",
       "    </tr>\n",
       "  </thead>\n",
       "  <tbody>\n",
       "    <tr>\n",
       "      <th>jakarta</th>\n",
       "      <td>0.0</td>\n",
       "      <td>0.0</td>\n",
       "      <td>0.0</td>\n",
       "      <td>0.0</td>\n",
       "      <td>0.0</td>\n",
       "      <td>0.0</td>\n",
       "    </tr>\n",
       "    <tr>\n",
       "      <th>bandung</th>\n",
       "      <td>0.0</td>\n",
       "      <td>0.0</td>\n",
       "      <td>0.0</td>\n",
       "      <td>0.0</td>\n",
       "      <td>0.0</td>\n",
       "      <td>0.0</td>\n",
       "    </tr>\n",
       "    <tr>\n",
       "      <th>surabaya</th>\n",
       "      <td>0.0</td>\n",
       "      <td>0.0</td>\n",
       "      <td>0.0</td>\n",
       "      <td>0.0</td>\n",
       "      <td>0.0</td>\n",
       "      <td>0.0</td>\n",
       "    </tr>\n",
       "    <tr>\n",
       "      <th>makassar</th>\n",
       "      <td>0.0</td>\n",
       "      <td>0.0</td>\n",
       "      <td>0.0</td>\n",
       "      <td>0.0</td>\n",
       "      <td>0.0</td>\n",
       "      <td>0.0</td>\n",
       "    </tr>\n",
       "    <tr>\n",
       "      <th>samarinda</th>\n",
       "      <td>0.0</td>\n",
       "      <td>0.0</td>\n",
       "      <td>0.0</td>\n",
       "      <td>0.0</td>\n",
       "      <td>0.0</td>\n",
       "      <td>0.0</td>\n",
       "    </tr>\n",
       "    <tr>\n",
       "      <th>bali</th>\n",
       "      <td>0.0</td>\n",
       "      <td>0.0</td>\n",
       "      <td>0.0</td>\n",
       "      <td>0.0</td>\n",
       "      <td>0.0</td>\n",
       "      <td>0.0</td>\n",
       "    </tr>\n",
       "  </tbody>\n",
       "</table>\n",
       "</div>"
      ],
      "text/plain": [
       "           jakarta  bandung  surabaya  makassar  samarinda  bali\n",
       "jakarta        0.0      0.0       0.0       0.0        0.0   0.0\n",
       "bandung        0.0      0.0       0.0       0.0        0.0   0.0\n",
       "surabaya       0.0      0.0       0.0       0.0        0.0   0.0\n",
       "makassar       0.0      0.0       0.0       0.0        0.0   0.0\n",
       "samarinda      0.0      0.0       0.0       0.0        0.0   0.0\n",
       "bali           0.0      0.0       0.0       0.0        0.0   0.0"
      ]
     },
     "execution_count": 164,
     "metadata": {},
     "output_type": "execute_result"
    }
   ],
   "source": [
    "Q = pd.DataFrame(np.zeros((N, N)), index=states, columns=states)\n",
    "Q"
   ]
  },
  {
   "cell_type": "code",
   "execution_count": 199,
   "metadata": {},
   "outputs": [],
   "source": [
    "temp = R[start]"
   ]
  },
  {
   "cell_type": "code",
   "execution_count": 200,
   "metadata": {},
   "outputs": [
    {
     "data": {
      "text/plain": [
       "Index(['bandung', 'surabaya', 'makassar', 'samarinda'], dtype='object')"
      ]
     },
     "execution_count": 200,
     "metadata": {},
     "output_type": "execute_result"
    }
   ],
   "source": [
    "temp[temp >= 0].index"
   ]
  },
  {
   "cell_type": "code",
   "execution_count": 201,
   "metadata": {},
   "outputs": [],
   "source": [
    "def step(state):\n",
    "    \"\"\"\n",
    "    R = Reward table\n",
    "    r = action reward\n",
    "    \"\"\"\n",
    "    r = R[state]\n",
    "    available_actions = r[r >= 0].index\n",
    "    return np.random.choice(available_actions)"
   ]
  },
  {
   "cell_type": "code",
   "execution_count": 202,
   "metadata": {},
   "outputs": [],
   "source": [
    "def update(state, action, gamma=0.8):\n",
    "    \"\"\"\n",
    "    Q = Q-table\n",
    "    q = action quality\n",
    "    \"\"\"\n",
    "    q = Q[state]\n",
    "    maxq = q.max()\n",
    "    \n",
    "    #kasus untuk maxq lebih dari 1\n",
    "    mask = (q == maxq)\n",
    "    if mask.sum() > 1:\n",
    "        maxq = np.random.choice(q[mask])\n",
    "    Q.loc[state, action] = R.loc[state, action] + (gamma * maxq)"
   ]
  },
  {
   "cell_type": "code",
   "execution_count": 203,
   "metadata": {},
   "outputs": [],
   "source": [
    "state = start"
   ]
  },
  {
   "cell_type": "code",
   "execution_count": 204,
   "metadata": {},
   "outputs": [
    {
     "data": {
      "text/plain": [
       "'surabaya'"
      ]
     },
     "execution_count": 204,
     "metadata": {},
     "output_type": "execute_result"
    }
   ],
   "source": [
    "action = step(state)\n",
    "action"
   ]
  },
  {
   "cell_type": "code",
   "execution_count": 205,
   "metadata": {},
   "outputs": [],
   "source": [
    "update(state, action)"
   ]
  },
  {
   "cell_type": "code",
   "execution_count": 206,
   "metadata": {},
   "outputs": [],
   "source": [
    "Q = pd.DataFrame(np.zeros((N, N)), index=states, columns=states)"
   ]
  },
  {
   "cell_type": "code",
   "execution_count": 211,
   "metadata": {},
   "outputs": [],
   "source": [
    "for _ in range(3000):\n",
    "    state = np.random.choice(states)\n",
    "    while state == start:\n",
    "        state = np.random.choice(states)\n",
    "    thisset = {start}\n",
    "    action = step(state)\n",
    "    update(state, action, gamma=0.9)"
   ]
  },
  {
   "cell_type": "code",
   "execution_count": 212,
   "metadata": {},
   "outputs": [
    {
     "data": {
      "text/html": [
       "<div>\n",
       "<style scoped>\n",
       "    .dataframe tbody tr th:only-of-type {\n",
       "        vertical-align: middle;\n",
       "    }\n",
       "\n",
       "    .dataframe tbody tr th {\n",
       "        vertical-align: top;\n",
       "    }\n",
       "\n",
       "    .dataframe thead th {\n",
       "        text-align: right;\n",
       "    }\n",
       "</style>\n",
       "<table border=\"1\" class=\"dataframe\">\n",
       "  <thead>\n",
       "    <tr style=\"text-align: right;\">\n",
       "      <th></th>\n",
       "      <th>jakarta</th>\n",
       "      <th>bandung</th>\n",
       "      <th>surabaya</th>\n",
       "      <th>makassar</th>\n",
       "      <th>samarinda</th>\n",
       "      <th>bali</th>\n",
       "    </tr>\n",
       "  </thead>\n",
       "  <tbody>\n",
       "    <tr>\n",
       "      <th>jakarta</th>\n",
       "      <td>0.000</td>\n",
       "      <td>0.000</td>\n",
       "      <td>0.000</td>\n",
       "      <td>0.000</td>\n",
       "      <td>0.000</td>\n",
       "      <td>0.000</td>\n",
       "    </tr>\n",
       "    <tr>\n",
       "      <th>bandung</th>\n",
       "      <td>940.104</td>\n",
       "      <td>0.000</td>\n",
       "      <td>911.334</td>\n",
       "      <td>864.064</td>\n",
       "      <td>866.844</td>\n",
       "      <td>950.104</td>\n",
       "    </tr>\n",
       "    <tr>\n",
       "      <th>surabaya</th>\n",
       "      <td>937.108</td>\n",
       "      <td>942.258</td>\n",
       "      <td>0.000</td>\n",
       "      <td>929.278</td>\n",
       "      <td>921.728</td>\n",
       "      <td>981.028</td>\n",
       "    </tr>\n",
       "    <tr>\n",
       "      <th>makassar</th>\n",
       "      <td>872.461</td>\n",
       "      <td>876.421</td>\n",
       "      <td>910.711</td>\n",
       "      <td>0.000</td>\n",
       "      <td>923.301</td>\n",
       "      <td>962.461</td>\n",
       "    </tr>\n",
       "    <tr>\n",
       "      <th>samarinda</th>\n",
       "      <td>860.701</td>\n",
       "      <td>861.921</td>\n",
       "      <td>885.881</td>\n",
       "      <td>906.021</td>\n",
       "      <td>0.000</td>\n",
       "      <td>945.181</td>\n",
       "    </tr>\n",
       "    <tr>\n",
       "      <th>bali</th>\n",
       "      <td>0.000</td>\n",
       "      <td>944.560</td>\n",
       "      <td>978.920</td>\n",
       "      <td>958.290</td>\n",
       "      <td>939.090</td>\n",
       "      <td>1000.000</td>\n",
       "    </tr>\n",
       "  </tbody>\n",
       "</table>\n",
       "</div>"
      ],
      "text/plain": [
       "           jakarta  bandung  surabaya  makassar  samarinda      bali\n",
       "jakarta      0.000    0.000     0.000     0.000      0.000     0.000\n",
       "bandung    940.104    0.000   911.334   864.064    866.844   950.104\n",
       "surabaya   937.108  942.258     0.000   929.278    921.728   981.028\n",
       "makassar   872.461  876.421   910.711     0.000    923.301   962.461\n",
       "samarinda  860.701  861.921   885.881   906.021      0.000   945.181\n",
       "bali         0.000  944.560   978.920   958.290    939.090  1000.000"
      ]
     },
     "execution_count": 212,
     "metadata": {},
     "output_type": "execute_result"
    }
   ],
   "source": [
    "Q"
   ]
  },
  {
   "cell_type": "code",
   "execution_count": 213,
   "metadata": {},
   "outputs": [
    {
     "data": {
      "text/html": [
       "<div>\n",
       "<style scoped>\n",
       "    .dataframe tbody tr th:only-of-type {\n",
       "        vertical-align: middle;\n",
       "    }\n",
       "\n",
       "    .dataframe tbody tr th {\n",
       "        vertical-align: top;\n",
       "    }\n",
       "\n",
       "    .dataframe thead th {\n",
       "        text-align: right;\n",
       "    }\n",
       "</style>\n",
       "<table border=\"1\" class=\"dataframe\">\n",
       "  <thead>\n",
       "    <tr style=\"text-align: right;\">\n",
       "      <th></th>\n",
       "      <th>jakarta</th>\n",
       "      <th>bandung</th>\n",
       "      <th>surabaya</th>\n",
       "      <th>makassar</th>\n",
       "      <th>samarinda</th>\n",
       "      <th>bali</th>\n",
       "    </tr>\n",
       "  </thead>\n",
       "  <tbody>\n",
       "    <tr>\n",
       "      <th>jakarta</th>\n",
       "      <td>0.000000</td>\n",
       "      <td>0.000000</td>\n",
       "      <td>0.000000</td>\n",
       "      <td>0.000000</td>\n",
       "      <td>0.000000</td>\n",
       "      <td>0.000000</td>\n",
       "    </tr>\n",
       "    <tr>\n",
       "      <th>bandung</th>\n",
       "      <td>0.940104</td>\n",
       "      <td>0.000000</td>\n",
       "      <td>0.911334</td>\n",
       "      <td>0.864064</td>\n",
       "      <td>0.866844</td>\n",
       "      <td>0.950104</td>\n",
       "    </tr>\n",
       "    <tr>\n",
       "      <th>surabaya</th>\n",
       "      <td>0.937108</td>\n",
       "      <td>0.942258</td>\n",
       "      <td>0.000000</td>\n",
       "      <td>0.929278</td>\n",
       "      <td>0.921728</td>\n",
       "      <td>0.981028</td>\n",
       "    </tr>\n",
       "    <tr>\n",
       "      <th>makassar</th>\n",
       "      <td>0.872461</td>\n",
       "      <td>0.876421</td>\n",
       "      <td>0.910711</td>\n",
       "      <td>0.000000</td>\n",
       "      <td>0.923301</td>\n",
       "      <td>0.962461</td>\n",
       "    </tr>\n",
       "    <tr>\n",
       "      <th>samarinda</th>\n",
       "      <td>0.860701</td>\n",
       "      <td>0.861921</td>\n",
       "      <td>0.885881</td>\n",
       "      <td>0.906021</td>\n",
       "      <td>0.000000</td>\n",
       "      <td>0.945181</td>\n",
       "    </tr>\n",
       "    <tr>\n",
       "      <th>bali</th>\n",
       "      <td>0.000000</td>\n",
       "      <td>0.944560</td>\n",
       "      <td>0.978920</td>\n",
       "      <td>0.958290</td>\n",
       "      <td>0.939090</td>\n",
       "      <td>1.000000</td>\n",
       "    </tr>\n",
       "  </tbody>\n",
       "</table>\n",
       "</div>"
      ],
      "text/plain": [
       "            jakarta   bandung  surabaya  makassar  samarinda      bali\n",
       "jakarta    0.000000  0.000000  0.000000  0.000000   0.000000  0.000000\n",
       "bandung    0.940104  0.000000  0.911334  0.864064   0.866844  0.950104\n",
       "surabaya   0.937108  0.942258  0.000000  0.929278   0.921728  0.981028\n",
       "makassar   0.872461  0.876421  0.910711  0.000000   0.923301  0.962461\n",
       "samarinda  0.860701  0.861921  0.885881  0.906021   0.000000  0.945181\n",
       "bali       0.000000  0.944560  0.978920  0.958290   0.939090  1.000000"
      ]
     },
     "execution_count": 213,
     "metadata": {},
     "output_type": "execute_result"
    }
   ],
   "source": [
    "Q/Q.values.max()"
   ]
  },
  {
   "cell_type": "code",
   "execution_count": 214,
   "metadata": {},
   "outputs": [
    {
     "name": "stdout",
     "output_type": "stream",
     "text": [
      "['jakarta', 'bandung', 'bali']\n"
     ]
    }
   ],
   "source": [
    "step = [start]\n",
    "while step[-1] != goal:\n",
    "    q = Q[step[-1]]\n",
    "    mask = (q == q.max())\n",
    "    if mask.sum() > 1:\n",
    "        step.append(np.random.choice(q[mask].index))\n",
    "    else:\n",
    "        step.append(q.idxmax())\n",
    "print(step)"
   ]
  },
  {
   "cell_type": "code",
   "execution_count": null,
   "metadata": {},
   "outputs": [],
   "source": []
  }
 ],
 "metadata": {
  "kernelspec": {
   "display_name": "Python [conda env:eml_pytorch]",
   "language": "python",
   "name": "conda-env-eml_pytorch-py"
  },
  "language_info": {
   "codemirror_mode": {
    "name": "ipython",
    "version": 3
   },
   "file_extension": ".py",
   "mimetype": "text/x-python",
   "name": "python",
   "nbconvert_exporter": "python",
   "pygments_lexer": "ipython3",
   "version": "3.6.7"
  }
 },
 "nbformat": 4,
 "nbformat_minor": 2
}
